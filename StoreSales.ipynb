{
 "cells": [
  {
   "cell_type": "code",
   "execution_count": 1,
   "outputs": [],
   "source": [
    "import numpy as np\n",
    "import pandas as pd"
   ],
   "metadata": {
    "collapsed": false,
    "pycharm": {
     "name": "#%%\n"
    }
   }
  },
  {
   "cell_type": "code",
   "execution_count": 2,
   "outputs": [],
   "source": [
    "# Загружаем все необходимые датасеты\n",
    "train = pd.read_csv('/home/exeb1t/Desktop/Kaggle/StoreSales/train.csv')\n",
    "test = pd.read_csv('/home/exeb1t/Desktop/Kaggle/StoreSales/test.csv')\n",
    "oil = pd.read_csv('/home/exeb1t/Desktop/Kaggle/StoreSales/oil.csv')\n",
    "holidays_events = pd.read_csv('/home/exeb1t/Desktop/Kaggle/StoreSales/holidays_events.csv')\n",
    "stores = pd.read_csv('/home/exeb1t/Desktop/Kaggle/StoreSales/stores.csv')\n",
    "transactions = pd.read_csv('/home/exeb1t/Desktop/Kaggle/StoreSales/transactions.csv')"
   ],
   "metadata": {
    "collapsed": false,
    "pycharm": {
     "name": "#%%\n"
    }
   }
  },
  {
   "cell_type": "code",
   "execution_count": 3,
   "outputs": [],
   "source": [
    "# Для начала преобразуем\n",
    "train_test = pd.concat([train, test], sort=False, axis=0, ignore_index=True)"
   ],
   "metadata": {
    "collapsed": false,
    "pycharm": {
     "name": "#%%\n"
    }
   }
  },
  {
   "cell_type": "code",
   "execution_count": 4,
   "outputs": [],
   "source": [
    "train_test = train_test.drop(['id'], axis=1)"
   ],
   "metadata": {
    "collapsed": false,
    "pycharm": {
     "name": "#%%\n"
    }
   }
  },
  {
   "cell_type": "code",
   "execution_count": 5,
   "outputs": [
    {
     "data": {
      "text/plain": "               date  store_nbr                      family  sales  onpromotion\n0        2013-01-01          1                  AUTOMOTIVE    0.0            0\n1        2013-01-01          1                   BABY CARE    0.0            0\n2        2013-01-01          1                      BEAUTY    0.0            0\n3        2013-01-01          1                   BEVERAGES    0.0            0\n4        2013-01-01          1                       BOOKS    0.0            0\n...             ...        ...                         ...    ...          ...\n3029395  2017-08-31          9                     POULTRY    NaN            1\n3029396  2017-08-31          9              PREPARED FOODS    NaN            0\n3029397  2017-08-31          9                     PRODUCE    NaN            1\n3029398  2017-08-31          9  SCHOOL AND OFFICE SUPPLIES    NaN            9\n3029399  2017-08-31          9                     SEAFOOD    NaN            0\n\n[3029400 rows x 5 columns]",
      "text/html": "<div>\n<style scoped>\n    .dataframe tbody tr th:only-of-type {\n        vertical-align: middle;\n    }\n\n    .dataframe tbody tr th {\n        vertical-align: top;\n    }\n\n    .dataframe thead th {\n        text-align: right;\n    }\n</style>\n<table border=\"1\" class=\"dataframe\">\n  <thead>\n    <tr style=\"text-align: right;\">\n      <th></th>\n      <th>date</th>\n      <th>store_nbr</th>\n      <th>family</th>\n      <th>sales</th>\n      <th>onpromotion</th>\n    </tr>\n  </thead>\n  <tbody>\n    <tr>\n      <th>0</th>\n      <td>2013-01-01</td>\n      <td>1</td>\n      <td>AUTOMOTIVE</td>\n      <td>0.0</td>\n      <td>0</td>\n    </tr>\n    <tr>\n      <th>1</th>\n      <td>2013-01-01</td>\n      <td>1</td>\n      <td>BABY CARE</td>\n      <td>0.0</td>\n      <td>0</td>\n    </tr>\n    <tr>\n      <th>2</th>\n      <td>2013-01-01</td>\n      <td>1</td>\n      <td>BEAUTY</td>\n      <td>0.0</td>\n      <td>0</td>\n    </tr>\n    <tr>\n      <th>3</th>\n      <td>2013-01-01</td>\n      <td>1</td>\n      <td>BEVERAGES</td>\n      <td>0.0</td>\n      <td>0</td>\n    </tr>\n    <tr>\n      <th>4</th>\n      <td>2013-01-01</td>\n      <td>1</td>\n      <td>BOOKS</td>\n      <td>0.0</td>\n      <td>0</td>\n    </tr>\n    <tr>\n      <th>...</th>\n      <td>...</td>\n      <td>...</td>\n      <td>...</td>\n      <td>...</td>\n      <td>...</td>\n    </tr>\n    <tr>\n      <th>3029395</th>\n      <td>2017-08-31</td>\n      <td>9</td>\n      <td>POULTRY</td>\n      <td>NaN</td>\n      <td>1</td>\n    </tr>\n    <tr>\n      <th>3029396</th>\n      <td>2017-08-31</td>\n      <td>9</td>\n      <td>PREPARED FOODS</td>\n      <td>NaN</td>\n      <td>0</td>\n    </tr>\n    <tr>\n      <th>3029397</th>\n      <td>2017-08-31</td>\n      <td>9</td>\n      <td>PRODUCE</td>\n      <td>NaN</td>\n      <td>1</td>\n    </tr>\n    <tr>\n      <th>3029398</th>\n      <td>2017-08-31</td>\n      <td>9</td>\n      <td>SCHOOL AND OFFICE SUPPLIES</td>\n      <td>NaN</td>\n      <td>9</td>\n    </tr>\n    <tr>\n      <th>3029399</th>\n      <td>2017-08-31</td>\n      <td>9</td>\n      <td>SEAFOOD</td>\n      <td>NaN</td>\n      <td>0</td>\n    </tr>\n  </tbody>\n</table>\n<p>3029400 rows × 5 columns</p>\n</div>"
     },
     "execution_count": 5,
     "metadata": {},
     "output_type": "execute_result"
    }
   ],
   "source": [
    "train_test"
   ],
   "metadata": {
    "collapsed": false,
    "pycharm": {
     "name": "#%%\n"
    }
   }
  },
  {
   "cell_type": "code",
   "execution_count": 6,
   "outputs": [],
   "source": [
    "# Добавляем текущий день, месяц, год, день зарплаты\n",
    "from datetime import date, datetime\n",
    "import calendar\n",
    "\n",
    "\n",
    "train_test['date'] = train_test['date'].map(lambda x: date.fromisoformat(x))\n",
    "train_test['weekday'] = train_test['date'].map(lambda x: x.weekday())\n",
    "train_test['year'] = train_test['date'].map(lambda x: x.year)\n",
    "train_test['month'] = train_test['date'].map(lambda x: x.month)\n",
    "train_test['day'] = train_test['date'].map(lambda x: x.day)\n",
    "train_test['eomd'] = train_test['date'].map(lambda x: calendar.monthrange(x.year, x.month)[1])\n",
    "train_test['payday'] = ((train_test['day'] == train_test['eomd']) | (train_test['day'] == 15)).astype(int)\n",
    "\n",
    "train_test = train_test.drop(['eomd'], axis=1)"
   ],
   "metadata": {
    "collapsed": false,
    "pycharm": {
     "name": "#%%\n"
    }
   }
  },
  {
   "cell_type": "code",
   "execution_count": 7,
   "outputs": [
    {
     "data": {
      "text/plain": "               date  store_nbr                      family  sales  \\\n0        2013-01-01          1                  AUTOMOTIVE    0.0   \n1        2013-01-01          1                   BABY CARE    0.0   \n2        2013-01-01          1                      BEAUTY    0.0   \n3        2013-01-01          1                   BEVERAGES    0.0   \n4        2013-01-01          1                       BOOKS    0.0   \n...             ...        ...                         ...    ...   \n3029395  2017-08-31          9                     POULTRY    NaN   \n3029396  2017-08-31          9              PREPARED FOODS    NaN   \n3029397  2017-08-31          9                     PRODUCE    NaN   \n3029398  2017-08-31          9  SCHOOL AND OFFICE SUPPLIES    NaN   \n3029399  2017-08-31          9                     SEAFOOD    NaN   \n\n         onpromotion  weekday  year  month  day  payday  \n0                  0        1  2013      1    1       0  \n1                  0        1  2013      1    1       0  \n2                  0        1  2013      1    1       0  \n3                  0        1  2013      1    1       0  \n4                  0        1  2013      1    1       0  \n...              ...      ...   ...    ...  ...     ...  \n3029395            1        3  2017      8   31       1  \n3029396            0        3  2017      8   31       1  \n3029397            1        3  2017      8   31       1  \n3029398            9        3  2017      8   31       1  \n3029399            0        3  2017      8   31       1  \n\n[3029400 rows x 10 columns]",
      "text/html": "<div>\n<style scoped>\n    .dataframe tbody tr th:only-of-type {\n        vertical-align: middle;\n    }\n\n    .dataframe tbody tr th {\n        vertical-align: top;\n    }\n\n    .dataframe thead th {\n        text-align: right;\n    }\n</style>\n<table border=\"1\" class=\"dataframe\">\n  <thead>\n    <tr style=\"text-align: right;\">\n      <th></th>\n      <th>date</th>\n      <th>store_nbr</th>\n      <th>family</th>\n      <th>sales</th>\n      <th>onpromotion</th>\n      <th>weekday</th>\n      <th>year</th>\n      <th>month</th>\n      <th>day</th>\n      <th>payday</th>\n    </tr>\n  </thead>\n  <tbody>\n    <tr>\n      <th>0</th>\n      <td>2013-01-01</td>\n      <td>1</td>\n      <td>AUTOMOTIVE</td>\n      <td>0.0</td>\n      <td>0</td>\n      <td>1</td>\n      <td>2013</td>\n      <td>1</td>\n      <td>1</td>\n      <td>0</td>\n    </tr>\n    <tr>\n      <th>1</th>\n      <td>2013-01-01</td>\n      <td>1</td>\n      <td>BABY CARE</td>\n      <td>0.0</td>\n      <td>0</td>\n      <td>1</td>\n      <td>2013</td>\n      <td>1</td>\n      <td>1</td>\n      <td>0</td>\n    </tr>\n    <tr>\n      <th>2</th>\n      <td>2013-01-01</td>\n      <td>1</td>\n      <td>BEAUTY</td>\n      <td>0.0</td>\n      <td>0</td>\n      <td>1</td>\n      <td>2013</td>\n      <td>1</td>\n      <td>1</td>\n      <td>0</td>\n    </tr>\n    <tr>\n      <th>3</th>\n      <td>2013-01-01</td>\n      <td>1</td>\n      <td>BEVERAGES</td>\n      <td>0.0</td>\n      <td>0</td>\n      <td>1</td>\n      <td>2013</td>\n      <td>1</td>\n      <td>1</td>\n      <td>0</td>\n    </tr>\n    <tr>\n      <th>4</th>\n      <td>2013-01-01</td>\n      <td>1</td>\n      <td>BOOKS</td>\n      <td>0.0</td>\n      <td>0</td>\n      <td>1</td>\n      <td>2013</td>\n      <td>1</td>\n      <td>1</td>\n      <td>0</td>\n    </tr>\n    <tr>\n      <th>...</th>\n      <td>...</td>\n      <td>...</td>\n      <td>...</td>\n      <td>...</td>\n      <td>...</td>\n      <td>...</td>\n      <td>...</td>\n      <td>...</td>\n      <td>...</td>\n      <td>...</td>\n    </tr>\n    <tr>\n      <th>3029395</th>\n      <td>2017-08-31</td>\n      <td>9</td>\n      <td>POULTRY</td>\n      <td>NaN</td>\n      <td>1</td>\n      <td>3</td>\n      <td>2017</td>\n      <td>8</td>\n      <td>31</td>\n      <td>1</td>\n    </tr>\n    <tr>\n      <th>3029396</th>\n      <td>2017-08-31</td>\n      <td>9</td>\n      <td>PREPARED FOODS</td>\n      <td>NaN</td>\n      <td>0</td>\n      <td>3</td>\n      <td>2017</td>\n      <td>8</td>\n      <td>31</td>\n      <td>1</td>\n    </tr>\n    <tr>\n      <th>3029397</th>\n      <td>2017-08-31</td>\n      <td>9</td>\n      <td>PRODUCE</td>\n      <td>NaN</td>\n      <td>1</td>\n      <td>3</td>\n      <td>2017</td>\n      <td>8</td>\n      <td>31</td>\n      <td>1</td>\n    </tr>\n    <tr>\n      <th>3029398</th>\n      <td>2017-08-31</td>\n      <td>9</td>\n      <td>SCHOOL AND OFFICE SUPPLIES</td>\n      <td>NaN</td>\n      <td>9</td>\n      <td>3</td>\n      <td>2017</td>\n      <td>8</td>\n      <td>31</td>\n      <td>1</td>\n    </tr>\n    <tr>\n      <th>3029399</th>\n      <td>2017-08-31</td>\n      <td>9</td>\n      <td>SEAFOOD</td>\n      <td>NaN</td>\n      <td>0</td>\n      <td>3</td>\n      <td>2017</td>\n      <td>8</td>\n      <td>31</td>\n      <td>1</td>\n    </tr>\n  </tbody>\n</table>\n<p>3029400 rows × 10 columns</p>\n</div>"
     },
     "execution_count": 7,
     "metadata": {},
     "output_type": "execute_result"
    }
   ],
   "source": [
    "train_test"
   ],
   "metadata": {
    "collapsed": false,
    "pycharm": {
     "name": "#%%\n"
    }
   }
  },
  {
   "cell_type": "code",
   "execution_count": 8,
   "outputs": [],
   "source": [
    "# Чтобы максимально точно заполнить пропуски в датасете oil мы посчитаем среднее значение\n",
    "# цены на каждый месяц и заполним им\n",
    "oil['year_month'] = oil['date'].map(lambda x: int(x.replace('-', '')[:6]))\n",
    "oil['year_month_avg'] = oil.groupby('year_month')['dcoilwtico'].transform('mean')\n",
    "oil['tmp'] = oil['dcoilwtico'].map(np.isnan)\n",
    "oil['year_month_avg'] = oil['tmp'] * oil['year_month_avg']\n",
    "oil['dcoilwtico'] = oil['dcoilwtico'].fillna(0)\n",
    "oil['dcoilwtico'] = oil['dcoilwtico'] + oil['year_month_avg']\n",
    "oil = oil.drop(['year_month', 'year_month_avg', 'tmp'], axis=1)\n",
    "oil['date'] = oil['date'].map(lambda x: date.fromisoformat(x))\n"
   ],
   "metadata": {
    "collapsed": false,
    "pycharm": {
     "name": "#%%\n"
    }
   }
  },
  {
   "cell_type": "code",
   "execution_count": 9,
   "outputs": [
    {
     "data": {
      "text/plain": "           date        type    locale locale_name  \\\n0    2012-03-02     Holiday     Local       Manta   \n1    2012-04-01     Holiday  Regional    Cotopaxi   \n2    2012-04-12     Holiday     Local      Cuenca   \n3    2012-04-14     Holiday     Local    Libertad   \n4    2012-04-21     Holiday     Local    Riobamba   \n..          ...         ...       ...         ...   \n345  2017-12-22  Additional  National     Ecuador   \n346  2017-12-23  Additional  National     Ecuador   \n347  2017-12-24  Additional  National     Ecuador   \n348  2017-12-25     Holiday  National     Ecuador   \n349  2017-12-26  Additional  National     Ecuador   \n\n                       description  transferred  \n0               Fundacion de Manta        False  \n1    Provincializacion de Cotopaxi        False  \n2              Fundacion de Cuenca        False  \n3        Cantonizacion de Libertad        False  \n4        Cantonizacion de Riobamba        False  \n..                             ...          ...  \n345                      Navidad-3        False  \n346                      Navidad-2        False  \n347                      Navidad-1        False  \n348                        Navidad        False  \n349                      Navidad+1        False  \n\n[350 rows x 6 columns]",
      "text/html": "<div>\n<style scoped>\n    .dataframe tbody tr th:only-of-type {\n        vertical-align: middle;\n    }\n\n    .dataframe tbody tr th {\n        vertical-align: top;\n    }\n\n    .dataframe thead th {\n        text-align: right;\n    }\n</style>\n<table border=\"1\" class=\"dataframe\">\n  <thead>\n    <tr style=\"text-align: right;\">\n      <th></th>\n      <th>date</th>\n      <th>type</th>\n      <th>locale</th>\n      <th>locale_name</th>\n      <th>description</th>\n      <th>transferred</th>\n    </tr>\n  </thead>\n  <tbody>\n    <tr>\n      <th>0</th>\n      <td>2012-03-02</td>\n      <td>Holiday</td>\n      <td>Local</td>\n      <td>Manta</td>\n      <td>Fundacion de Manta</td>\n      <td>False</td>\n    </tr>\n    <tr>\n      <th>1</th>\n      <td>2012-04-01</td>\n      <td>Holiday</td>\n      <td>Regional</td>\n      <td>Cotopaxi</td>\n      <td>Provincializacion de Cotopaxi</td>\n      <td>False</td>\n    </tr>\n    <tr>\n      <th>2</th>\n      <td>2012-04-12</td>\n      <td>Holiday</td>\n      <td>Local</td>\n      <td>Cuenca</td>\n      <td>Fundacion de Cuenca</td>\n      <td>False</td>\n    </tr>\n    <tr>\n      <th>3</th>\n      <td>2012-04-14</td>\n      <td>Holiday</td>\n      <td>Local</td>\n      <td>Libertad</td>\n      <td>Cantonizacion de Libertad</td>\n      <td>False</td>\n    </tr>\n    <tr>\n      <th>4</th>\n      <td>2012-04-21</td>\n      <td>Holiday</td>\n      <td>Local</td>\n      <td>Riobamba</td>\n      <td>Cantonizacion de Riobamba</td>\n      <td>False</td>\n    </tr>\n    <tr>\n      <th>...</th>\n      <td>...</td>\n      <td>...</td>\n      <td>...</td>\n      <td>...</td>\n      <td>...</td>\n      <td>...</td>\n    </tr>\n    <tr>\n      <th>345</th>\n      <td>2017-12-22</td>\n      <td>Additional</td>\n      <td>National</td>\n      <td>Ecuador</td>\n      <td>Navidad-3</td>\n      <td>False</td>\n    </tr>\n    <tr>\n      <th>346</th>\n      <td>2017-12-23</td>\n      <td>Additional</td>\n      <td>National</td>\n      <td>Ecuador</td>\n      <td>Navidad-2</td>\n      <td>False</td>\n    </tr>\n    <tr>\n      <th>347</th>\n      <td>2017-12-24</td>\n      <td>Additional</td>\n      <td>National</td>\n      <td>Ecuador</td>\n      <td>Navidad-1</td>\n      <td>False</td>\n    </tr>\n    <tr>\n      <th>348</th>\n      <td>2017-12-25</td>\n      <td>Holiday</td>\n      <td>National</td>\n      <td>Ecuador</td>\n      <td>Navidad</td>\n      <td>False</td>\n    </tr>\n    <tr>\n      <th>349</th>\n      <td>2017-12-26</td>\n      <td>Additional</td>\n      <td>National</td>\n      <td>Ecuador</td>\n      <td>Navidad+1</td>\n      <td>False</td>\n    </tr>\n  </tbody>\n</table>\n<p>350 rows × 6 columns</p>\n</div>"
     },
     "execution_count": 9,
     "metadata": {},
     "output_type": "execute_result"
    }
   ],
   "source": [
    "holidays_events"
   ],
   "metadata": {
    "collapsed": false,
    "pycharm": {
     "name": "#%%\n"
    }
   }
  },
  {
   "cell_type": "code",
   "execution_count": 10,
   "outputs": [],
   "source": [
    "holidays_events['date'] = holidays_events['date'].map(lambda x: date.fromisoformat(x))\n",
    "holiday = holidays_events[(holidays_events['transferred']==False)&(holidays_events['type']!='Work Day')]\n",
    "event = holiday[holiday['type']=='Event']\n",
    "earthquake = event[event['description'].str.startswith('Terremoto Manabi')]\n",
    "event = event[event['description'].str.startswith('Terremoto Manabi')==False]"
   ],
   "metadata": {
    "collapsed": false,
    "pycharm": {
     "name": "#%%\n"
    }
   }
  },
  {
   "cell_type": "code",
   "execution_count": 11,
   "outputs": [],
   "source": [
    "event = event[['date', 'description']]\n",
    "event.rename({'description':'event_name'}, axis=1, inplace=True)"
   ],
   "metadata": {
    "collapsed": false,
    "pycharm": {
     "name": "#%%\n"
    }
   }
  },
  {
   "cell_type": "code",
   "execution_count": 12,
   "outputs": [],
   "source": [
    "earthquake = earthquake[['date', 'description']]\n",
    "earthquake.rename({'description':'earthquake'}, axis=1, inplace=True)"
   ],
   "metadata": {
    "collapsed": false,
    "pycharm": {
     "name": "#%%\n"
    }
   }
  },
  {
   "cell_type": "code",
   "execution_count": 13,
   "outputs": [],
   "source": [
    "h_local = holiday[holiday['locale']=='Local']\n",
    "h_local = h_local[['date', 'locale_name', 'description']]\n",
    "h_local = h_local.rename({'locale_name':'city', 'description':'locale_holiday_name'}, axis=1)"
   ],
   "metadata": {
    "collapsed": false,
    "pycharm": {
     "name": "#%%\n"
    }
   }
  },
  {
   "cell_type": "code",
   "execution_count": 14,
   "outputs": [],
   "source": [
    "h_regional = holiday[holiday['locale']=='Regional']\n",
    "h_regional = h_regional[['date', 'locale_name', 'description']]\n",
    "h_regional = h_regional.rename({'locale_name':'state', 'description':'regional_holiday_name'}, axis=1)"
   ],
   "metadata": {
    "collapsed": false,
    "pycharm": {
     "name": "#%%\n"
    }
   }
  },
  {
   "cell_type": "code",
   "execution_count": 15,
   "outputs": [],
   "source": [
    "h_national = holiday[holiday['locale']=='National']\n",
    "h_national = h_national[['date','description']]\n",
    "h_national = h_national.rename({'description':'national_holiday_name'}, axis=1)"
   ],
   "metadata": {
    "collapsed": false,
    "pycharm": {
     "name": "#%%\n"
    }
   }
  },
  {
   "cell_type": "code",
   "execution_count": 16,
   "outputs": [],
   "source": [
    "def merge_tables(df):\n",
    "    df = df.merge(oil, on='date', how='left')\n",
    "    df = df.merge(stores, on='store_nbr', how='left')\n",
    "    df = df.merge(event, on='date', how='left').fillna('0')\n",
    "    df = df.merge(earthquake, on='date', how='left').fillna('0')\n",
    "    df = df.merge(h_local, on=['date', 'city'], how='left').fillna('0')\n",
    "    df = df.merge(h_regional, on=['date', 'state'], how='left').fillna('0')\n",
    "    df = df.merge(h_national, on='date', how='left').fillna('0')\n",
    "    df = df.merge(transactions, on=['date', 'store_nbr'], how='left').fillna(0)\n",
    "\n",
    "    return df\n",
    "\n",
    "train_test = merge_tables(train_test)\n"
   ],
   "metadata": {
    "collapsed": false,
    "pycharm": {
     "name": "#%%\n"
    }
   }
  },
  {
   "cell_type": "code",
   "execution_count": 17,
   "outputs": [],
   "source": [
    "train_test['dcoilwtico'] = train_test['dcoilwtico'].astype(float)"
   ],
   "metadata": {
    "collapsed": false,
    "pycharm": {
     "name": "#%%\n"
    }
   }
  },
  {
   "cell_type": "code",
   "execution_count": 18,
   "outputs": [],
   "source": [
    "from sklearn.preprocessing import LabelEncoder\n",
    "\n",
    "cat_features = ['family', 'store_nbr', 'city', 'state', 'type', 'cluster',\n",
    "                'event_name', 'earthquake', 'locale_holiday_name', 'regional_holiday_name', 'national_holiday_name']\n",
    "for col in cat_features:\n",
    "    le = LabelEncoder()\n",
    "    train_test[col] = le.fit_transform(train_test[col])"
   ],
   "metadata": {
    "collapsed": false,
    "pycharm": {
     "name": "#%%\n"
    }
   }
  },
  {
   "cell_type": "code",
   "execution_count": 19,
   "outputs": [
    {
     "data": {
      "text/plain": "               date  store_nbr  family sales  onpromotion  weekday  year  \\\n0        2013-01-01          0       0   0.0            0        1  2013   \n1        2013-01-01          0       1   0.0            0        1  2013   \n2        2013-01-01          0       2   0.0            0        1  2013   \n3        2013-01-01          0       3   0.0            0        1  2013   \n4        2013-01-01          0       4   0.0            0        1  2013   \n...             ...        ...     ...   ...          ...      ...   ...   \n3036787  2017-08-31          8      28     0            1        3  2017   \n3036788  2017-08-31          8      29     0            0        3  2017   \n3036789  2017-08-31          8      30     0            1        3  2017   \n3036790  2017-08-31          8      31     0            9        3  2017   \n3036791  2017-08-31          8      32     0            0        3  2017   \n\n         month  day  payday  ...  city  state  type  cluster  event_name  \\\n0            1    1       0  ...    18     12     3       12           0   \n1            1    1       0  ...    18     12     3       12           0   \n2            1    1       0  ...    18     12     3       12           0   \n3            1    1       0  ...    18     12     3       12           0   \n4            1    1       0  ...    18     12     3       12           0   \n...        ...  ...     ...  ...   ...    ...   ...      ...         ...   \n3036787      8   31       1  ...    18     12     1        5           0   \n3036788      8   31       1  ...    18     12     1        5           0   \n3036789      8   31       1  ...    18     12     1        5           0   \n3036790      8   31       1  ...    18     12     1        5           0   \n3036791      8   31       1  ...    18     12     1        5           0   \n\n         earthquake  locale_holiday_name  regional_holiday_name  \\\n0                 0                    0                      0   \n1                 0                    0                      0   \n2                 0                    0                      0   \n3                 0                    0                      0   \n4                 0                    0                      0   \n...             ...                  ...                    ...   \n3036787           0                    0                      0   \n3036788           0                    0                      0   \n3036789           0                    0                      0   \n3036790           0                    0                      0   \n3036791           0                    0                      0   \n\n         national_holiday_name  transactions  \n0                           26           0.0  \n1                           26           0.0  \n2                           26           0.0  \n3                           26           0.0  \n4                           26           0.0  \n...                        ...           ...  \n3036787                      0           0.0  \n3036788                      0           0.0  \n3036789                      0           0.0  \n3036790                      0           0.0  \n3036791                      0           0.0  \n\n[3036792 rows x 21 columns]",
      "text/html": "<div>\n<style scoped>\n    .dataframe tbody tr th:only-of-type {\n        vertical-align: middle;\n    }\n\n    .dataframe tbody tr th {\n        vertical-align: top;\n    }\n\n    .dataframe thead th {\n        text-align: right;\n    }\n</style>\n<table border=\"1\" class=\"dataframe\">\n  <thead>\n    <tr style=\"text-align: right;\">\n      <th></th>\n      <th>date</th>\n      <th>store_nbr</th>\n      <th>family</th>\n      <th>sales</th>\n      <th>onpromotion</th>\n      <th>weekday</th>\n      <th>year</th>\n      <th>month</th>\n      <th>day</th>\n      <th>payday</th>\n      <th>...</th>\n      <th>city</th>\n      <th>state</th>\n      <th>type</th>\n      <th>cluster</th>\n      <th>event_name</th>\n      <th>earthquake</th>\n      <th>locale_holiday_name</th>\n      <th>regional_holiday_name</th>\n      <th>national_holiday_name</th>\n      <th>transactions</th>\n    </tr>\n  </thead>\n  <tbody>\n    <tr>\n      <th>0</th>\n      <td>2013-01-01</td>\n      <td>0</td>\n      <td>0</td>\n      <td>0.0</td>\n      <td>0</td>\n      <td>1</td>\n      <td>2013</td>\n      <td>1</td>\n      <td>1</td>\n      <td>0</td>\n      <td>...</td>\n      <td>18</td>\n      <td>12</td>\n      <td>3</td>\n      <td>12</td>\n      <td>0</td>\n      <td>0</td>\n      <td>0</td>\n      <td>0</td>\n      <td>26</td>\n      <td>0.0</td>\n    </tr>\n    <tr>\n      <th>1</th>\n      <td>2013-01-01</td>\n      <td>0</td>\n      <td>1</td>\n      <td>0.0</td>\n      <td>0</td>\n      <td>1</td>\n      <td>2013</td>\n      <td>1</td>\n      <td>1</td>\n      <td>0</td>\n      <td>...</td>\n      <td>18</td>\n      <td>12</td>\n      <td>3</td>\n      <td>12</td>\n      <td>0</td>\n      <td>0</td>\n      <td>0</td>\n      <td>0</td>\n      <td>26</td>\n      <td>0.0</td>\n    </tr>\n    <tr>\n      <th>2</th>\n      <td>2013-01-01</td>\n      <td>0</td>\n      <td>2</td>\n      <td>0.0</td>\n      <td>0</td>\n      <td>1</td>\n      <td>2013</td>\n      <td>1</td>\n      <td>1</td>\n      <td>0</td>\n      <td>...</td>\n      <td>18</td>\n      <td>12</td>\n      <td>3</td>\n      <td>12</td>\n      <td>0</td>\n      <td>0</td>\n      <td>0</td>\n      <td>0</td>\n      <td>26</td>\n      <td>0.0</td>\n    </tr>\n    <tr>\n      <th>3</th>\n      <td>2013-01-01</td>\n      <td>0</td>\n      <td>3</td>\n      <td>0.0</td>\n      <td>0</td>\n      <td>1</td>\n      <td>2013</td>\n      <td>1</td>\n      <td>1</td>\n      <td>0</td>\n      <td>...</td>\n      <td>18</td>\n      <td>12</td>\n      <td>3</td>\n      <td>12</td>\n      <td>0</td>\n      <td>0</td>\n      <td>0</td>\n      <td>0</td>\n      <td>26</td>\n      <td>0.0</td>\n    </tr>\n    <tr>\n      <th>4</th>\n      <td>2013-01-01</td>\n      <td>0</td>\n      <td>4</td>\n      <td>0.0</td>\n      <td>0</td>\n      <td>1</td>\n      <td>2013</td>\n      <td>1</td>\n      <td>1</td>\n      <td>0</td>\n      <td>...</td>\n      <td>18</td>\n      <td>12</td>\n      <td>3</td>\n      <td>12</td>\n      <td>0</td>\n      <td>0</td>\n      <td>0</td>\n      <td>0</td>\n      <td>26</td>\n      <td>0.0</td>\n    </tr>\n    <tr>\n      <th>...</th>\n      <td>...</td>\n      <td>...</td>\n      <td>...</td>\n      <td>...</td>\n      <td>...</td>\n      <td>...</td>\n      <td>...</td>\n      <td>...</td>\n      <td>...</td>\n      <td>...</td>\n      <td>...</td>\n      <td>...</td>\n      <td>...</td>\n      <td>...</td>\n      <td>...</td>\n      <td>...</td>\n      <td>...</td>\n      <td>...</td>\n      <td>...</td>\n      <td>...</td>\n      <td>...</td>\n    </tr>\n    <tr>\n      <th>3036787</th>\n      <td>2017-08-31</td>\n      <td>8</td>\n      <td>28</td>\n      <td>0</td>\n      <td>1</td>\n      <td>3</td>\n      <td>2017</td>\n      <td>8</td>\n      <td>31</td>\n      <td>1</td>\n      <td>...</td>\n      <td>18</td>\n      <td>12</td>\n      <td>1</td>\n      <td>5</td>\n      <td>0</td>\n      <td>0</td>\n      <td>0</td>\n      <td>0</td>\n      <td>0</td>\n      <td>0.0</td>\n    </tr>\n    <tr>\n      <th>3036788</th>\n      <td>2017-08-31</td>\n      <td>8</td>\n      <td>29</td>\n      <td>0</td>\n      <td>0</td>\n      <td>3</td>\n      <td>2017</td>\n      <td>8</td>\n      <td>31</td>\n      <td>1</td>\n      <td>...</td>\n      <td>18</td>\n      <td>12</td>\n      <td>1</td>\n      <td>5</td>\n      <td>0</td>\n      <td>0</td>\n      <td>0</td>\n      <td>0</td>\n      <td>0</td>\n      <td>0.0</td>\n    </tr>\n    <tr>\n      <th>3036789</th>\n      <td>2017-08-31</td>\n      <td>8</td>\n      <td>30</td>\n      <td>0</td>\n      <td>1</td>\n      <td>3</td>\n      <td>2017</td>\n      <td>8</td>\n      <td>31</td>\n      <td>1</td>\n      <td>...</td>\n      <td>18</td>\n      <td>12</td>\n      <td>1</td>\n      <td>5</td>\n      <td>0</td>\n      <td>0</td>\n      <td>0</td>\n      <td>0</td>\n      <td>0</td>\n      <td>0.0</td>\n    </tr>\n    <tr>\n      <th>3036790</th>\n      <td>2017-08-31</td>\n      <td>8</td>\n      <td>31</td>\n      <td>0</td>\n      <td>9</td>\n      <td>3</td>\n      <td>2017</td>\n      <td>8</td>\n      <td>31</td>\n      <td>1</td>\n      <td>...</td>\n      <td>18</td>\n      <td>12</td>\n      <td>1</td>\n      <td>5</td>\n      <td>0</td>\n      <td>0</td>\n      <td>0</td>\n      <td>0</td>\n      <td>0</td>\n      <td>0.0</td>\n    </tr>\n    <tr>\n      <th>3036791</th>\n      <td>2017-08-31</td>\n      <td>8</td>\n      <td>32</td>\n      <td>0</td>\n      <td>0</td>\n      <td>3</td>\n      <td>2017</td>\n      <td>8</td>\n      <td>31</td>\n      <td>1</td>\n      <td>...</td>\n      <td>18</td>\n      <td>12</td>\n      <td>1</td>\n      <td>5</td>\n      <td>0</td>\n      <td>0</td>\n      <td>0</td>\n      <td>0</td>\n      <td>0</td>\n      <td>0.0</td>\n    </tr>\n  </tbody>\n</table>\n<p>3036792 rows × 21 columns</p>\n</div>"
     },
     "execution_count": 19,
     "metadata": {},
     "output_type": "execute_result"
    }
   ],
   "source": [
    "train_test"
   ],
   "metadata": {
    "collapsed": false,
    "pycharm": {
     "name": "#%%\n"
    }
   }
  },
  {
   "cell_type": "code",
   "execution_count": 20,
   "outputs": [
    {
     "data": {
      "text/plain": "((28512, 21), (3008280, 21))"
     },
     "execution_count": 20,
     "metadata": {},
     "output_type": "execute_result"
    }
   ],
   "source": [
    "df_train = train_test[:3008280]\n",
    "df_test = train_test[3008280:]\n",
    "df_test.shape, df_train.shape"
   ],
   "metadata": {
    "collapsed": false,
    "pycharm": {
     "name": "#%%\n"
    }
   }
  },
  {
   "cell_type": "code",
   "execution_count": 21,
   "outputs": [
    {
     "data": {
      "text/plain": "(28512, 20)"
     },
     "execution_count": 21,
     "metadata": {},
     "output_type": "execute_result"
    }
   ],
   "source": [
    "df_test = df_test.drop('sales', axis=1)\n",
    "df_test.shape"
   ],
   "metadata": {
    "collapsed": false,
    "pycharm": {
     "name": "#%%\n"
    }
   }
  },
  {
   "cell_type": "code",
   "execution_count": 99,
   "outputs": [
    {
     "name": "stderr",
     "output_type": "stream",
     "text": [
      "/tmp/ipykernel_2170/3269706171.py:2: SettingWithCopyWarning: \n",
      "A value is trying to be set on a copy of a slice from a DataFrame.\n",
      "Try using .loc[row_indexer,col_indexer] = value instead\n",
      "\n",
      "See the caveats in the documentation: https://pandas.pydata.org/pandas-docs/stable/user_guide/indexing.html#returning-a-view-versus-a-copy\n",
      "  df['is_train'] = df['date'].map(lambda x: x in train_date)\n",
      "/tmp/ipykernel_2170/3269706171.py:3: SettingWithCopyWarning: \n",
      "A value is trying to be set on a copy of a slice from a DataFrame.\n",
      "Try using .loc[row_indexer,col_indexer] = value instead\n",
      "\n",
      "See the caveats in the documentation: https://pandas.pydata.org/pandas-docs/stable/user_guide/indexing.html#returning-a-view-versus-a-copy\n",
      "  df['is_valid'] = df['date'].map(lambda x: x in valid_date)\n"
     ]
    }
   ],
   "source": [
    "def preprocess_dataset(df, train_date:list, valid_date: list):\n",
    "    df['is_train'] = df['date'].map(lambda x: x in train_date)\n",
    "    df['is_valid'] = df['date'].map(lambda x: x in valid_date)\n",
    "    return df\n",
    "train_date = df_train['date'].unique()[-227:-31].tolist()\n",
    "valid_date = df_train['date'].unique()[-31:].tolist()\n",
    "df_train = preprocess_dataset(df_train, train_date, valid_date)"
   ],
   "metadata": {
    "collapsed": false,
    "pycharm": {
     "name": "#%%\n"
    }
   }
  },
  {
   "cell_type": "code",
   "execution_count": 100,
   "outputs": [
    {
     "name": "stdout",
     "output_type": "stream",
     "text": [
      "train date from 2017-01-01 to 2017-07-15\n",
      "valid date from 2017-07-16 to 2017-08-15\n"
     ]
    }
   ],
   "source": [
    "print(f'train date from {min(train_date)} to {max(train_date)}')\n",
    "print(f'valid date from {min(valid_date)} to {max(valid_date)}')"
   ],
   "metadata": {
    "collapsed": false,
    "pycharm": {
     "name": "#%%\n"
    }
   }
  },
  {
   "cell_type": "code",
   "execution_count": 101,
   "outputs": [],
   "source": [
    "y_train = df_train['sales']\n",
    "y_train = pd.Series(data=np.log1p(y_train.tolist()), name='sales')\n",
    "X_train = df_train.drop(['date', 'sales', 'year'], axis=1)\n",
    "X_test = df_test.drop(['date', 'year'], axis=1)"
   ],
   "metadata": {
    "collapsed": false,
    "pycharm": {
     "name": "#%%\n"
    }
   }
  },
  {
   "cell_type": "code",
   "execution_count": 102,
   "outputs": [
    {
     "data": {
      "text/plain": "Empty DataFrame\nColumns: [Nan_sum]\nIndex: []",
      "text/html": "<div>\n<style scoped>\n    .dataframe tbody tr th:only-of-type {\n        vertical-align: middle;\n    }\n\n    .dataframe tbody tr th {\n        vertical-align: top;\n    }\n\n    .dataframe thead th {\n        text-align: right;\n    }\n</style>\n<table border=\"1\" class=\"dataframe\">\n  <thead>\n    <tr style=\"text-align: right;\">\n      <th></th>\n      <th>Nan_sum</th>\n    </tr>\n  </thead>\n  <tbody>\n  </tbody>\n</table>\n</div>"
     },
     "execution_count": 102,
     "metadata": {},
     "output_type": "execute_result"
    }
   ],
   "source": [
    "nan = pd.DataFrame(X_train.isna().sum(), columns=['Nan_sum'])\n",
    "nan = nan[nan['Nan_sum'] > 0]\n",
    "nan"
   ],
   "metadata": {
    "collapsed": false,
    "pycharm": {
     "name": "#%%\n"
    }
   }
  },
  {
   "cell_type": "code",
   "execution_count": 103,
   "outputs": [
    {
     "data": {
      "text/plain": "Empty DataFrame\nColumns: [Nan_sum]\nIndex: []",
      "text/html": "<div>\n<style scoped>\n    .dataframe tbody tr th:only-of-type {\n        vertical-align: middle;\n    }\n\n    .dataframe tbody tr th {\n        vertical-align: top;\n    }\n\n    .dataframe thead th {\n        text-align: right;\n    }\n</style>\n<table border=\"1\" class=\"dataframe\">\n  <thead>\n    <tr style=\"text-align: right;\">\n      <th></th>\n      <th>Nan_sum</th>\n    </tr>\n  </thead>\n  <tbody>\n  </tbody>\n</table>\n</div>"
     },
     "execution_count": 103,
     "metadata": {},
     "output_type": "execute_result"
    }
   ],
   "source": [
    "nan = pd.DataFrame(X_test.isna().sum(), columns=['Nan_sum'])\n",
    "nan = nan[nan['Nan_sum'] > 0]\n",
    "nan"
   ],
   "metadata": {
    "collapsed": false,
    "pycharm": {
     "name": "#%%\n"
    }
   }
  },
  {
   "cell_type": "code",
   "execution_count": 104,
   "outputs": [],
   "source": [
    "xgb_params = {\n",
    "    'tree_method': 'gpu_hist',\n",
    "    'gpu_id': 0,\n",
    "    'predictor': 'gpu_predictor',\n",
    "    'verbosity': 2,\n",
    "    'objective': 'reg:squarederror',\n",
    "    'eval_metric': 'rmse',\n",
    "    'learning_rate': 0.00994891,\n",
    "    'subsample': 0.996359,\n",
    "    'colsample_bytree': 0.805677952,\n",
    "    'reg_alpha': 10.0,\n",
    "    'reg_lambda': 0.1801543144548864,\n",
    "    'min_child_weight': 47,\n",
    "}"
   ],
   "metadata": {
    "collapsed": false,
    "pycharm": {
     "name": "#%%\n"
    }
   }
  },
  {
   "cell_type": "code",
   "execution_count": 105,
   "outputs": [],
   "source": [
    "import time\n",
    "from sklearn.metrics import mean_squared_error\n",
    "import xgboost as xgb\n",
    "def basic_xgboost(X_train, y, xgb_params, X_test):\n",
    "    start = time.time()\n",
    "    # extract train and valid dataset\n",
    "    trn_idx = X_train[X_train['is_train']==True].index.tolist()\n",
    "    val_idx = X_train[X_train['is_valid']==True].index.tolist()\n",
    "\n",
    "    X_tr = X_train.loc[trn_idx, :].drop(['is_train', 'is_valid'], axis=1)\n",
    "    X_val = X_train.loc[val_idx, :].drop(['is_train', 'is_valid'], axis=1)\n",
    "    y_tr = y[trn_idx]\n",
    "    y_val = y[val_idx]\n",
    "\n",
    "    xgb_train = xgb.DMatrix(X_tr, label=y_tr)\n",
    "    xgb_valid = xgb.DMatrix(X_val, label=y_val)\n",
    "    evallist = [(xgb_train, 'train'), (xgb_valid, 'eval')]\n",
    "    evals_result = dict()\n",
    "\n",
    "    model = xgb.train(params=xgb_params, dtrain=xgb_train, evals=evallist, evals_result=evals_result,\n",
    "                      verbose_eval=5000, num_boost_round=100000, early_stopping_rounds=100)\n",
    "\n",
    "\n",
    "\n",
    "    xgb_oof = np.zeros(y_val.shape[0])\n",
    "    xgb_oof = model.predict(xgb_valid, iteration_range=(0, model.best_iteration))\n",
    "\n",
    "    xgb_test = xgb.DMatrix(X_test)\n",
    "    xgb_pred = pd.Series(model.predict(xgb_test, iteration_range=(0, model.best_iteration)),\n",
    "                         name='xgb_pred')\n",
    "\n",
    "    elapsed = time.time() - start\n",
    "    error_value = mean_squared_error(y_val, xgb_oof, squared=False)\n",
    "    print(f\"xgb rmse: {error_value:.6f}, elapsed time: {elapsed:.2f}sec\\n\")\n",
    "\n",
    "    return xgb_oof, model, evals_result, xgb_pred, y_val, X_val"
   ],
   "metadata": {
    "collapsed": false,
    "pycharm": {
     "name": "#%%\n"
    }
   }
  },
  {
   "cell_type": "code",
   "execution_count": 107,
   "outputs": [
    {
     "name": "stdout",
     "output_type": "stream",
     "text": [
      "[0]\ttrain-rmse:3.95624\teval-rmse:3.97925\n",
      "[5000]\ttrain-rmse:0.43576\teval-rmse:0.45832\n",
      "[10000]\ttrain-rmse:0.40491\teval-rmse:0.43824\n",
      "[15000]\ttrain-rmse:0.38943\teval-rmse:0.43086\n",
      "[20000]\ttrain-rmse:0.37986\teval-rmse:0.42703\n",
      "[25000]\ttrain-rmse:0.37350\teval-rmse:0.42489\n",
      "[25198]\ttrain-rmse:0.37329\teval-rmse:0.42485\n",
      "xgb rmse: 0.424847, elapsed time: 103.03sec\n",
      "\n",
      "CPU times: user 1min 44s, sys: 761 ms, total: 1min 44s\n",
      "Wall time: 1min 43s\n"
     ]
    }
   ],
   "source": [
    "%%time\n",
    "oof, model, eval_result, pred, y_val, X_val = basic_xgboost(X_train, y_train, xgb_params, X_test)"
   ],
   "metadata": {
    "collapsed": false,
    "pycharm": {
     "name": "#%%\n"
    }
   }
  },
  {
   "cell_type": "code",
   "execution_count": 108,
   "outputs": [],
   "source": [
    "df_error = X_val[['store_nbr', 'family']].copy()\n",
    "df_error.reset_index(drop=True, inplace=True)\n",
    "df_error['oof'] = pd.Series(oof)\n",
    "df_error['y_valid'] = y_val.reset_index(drop=True).copy()"
   ],
   "metadata": {
    "collapsed": false,
    "pycharm": {
     "name": "#%%\n"
    }
   }
  },
  {
   "cell_type": "code",
   "execution_count": 110,
   "outputs": [
    {
     "data": {
      "text/plain": "<AxesSubplot:>"
     },
     "execution_count": 110,
     "metadata": {},
     "output_type": "execute_result"
    },
    {
     "data": {
      "text/plain": "<Figure size 432x288 with 1 Axes>",
      "image/png": "[encoded data removed]"
     },
     "metadata": {
      "needs_background": "light"
     },
     "output_type": "display_data"
    }
   ],
   "source": [
    "# good\n",
    "import seaborn as sns\n",
    "y_oof = df_error[(df_error['store_nbr']==1)&(df_error['family']==12)]['oof'].tolist()\n",
    "y_val = df_error[(df_error['store_nbr']==1)&(df_error['family']==12)]['y_valid'].tolist()\n",
    "sns.lineplot(x=range(len(y_oof)), y=y_oof)\n",
    "sns.lineplot(x=range(len(y_oof)), y=y_val)"
   ],
   "metadata": {
    "collapsed": false,
    "pycharm": {
     "name": "#%%\n"
    }
   }
  },
  {
   "cell_type": "code",
   "execution_count": 111,
   "outputs": [
    {
     "data": {
      "text/plain": "<AxesSubplot:>"
     },
     "execution_count": 111,
     "metadata": {},
     "output_type": "execute_result"
    },
    {
     "data": {
      "text/plain": "<Figure size 432x288 with 1 Axes>",
      "image/png": "[encoded data removed]"
     },
     "metadata": {
      "needs_background": "light"
     },
     "output_type": "display_data"
    }
   ],
   "source": [
    "# need to improve\n",
    "y_oof = df_error[(df_error['store_nbr']==1)&(df_error['family']==14)]['oof'].tolist()\n",
    "y_val = df_error[(df_error['store_nbr']==1)&(df_error['family']==14)]['y_valid'].tolist()\n",
    "sns.lineplot(x=range(len(y_oof)), y=y_oof)\n",
    "sns.lineplot(x=range(len(y_oof)), y=y_val)"
   ],
   "metadata": {
    "collapsed": false,
    "pycharm": {
     "name": "#%%\n"
    }
   }
  },
  {
   "cell_type": "code",
   "execution_count": 132,
   "outputs": [],
   "source": [
    "pred = np.expm1(pred)"
   ],
   "metadata": {
    "collapsed": false,
    "pycharm": {
     "name": "#%%\n"
    }
   }
  },
  {
   "cell_type": "code",
   "execution_count": 133,
   "outputs": [],
   "source": [
    "sub = pd.DataFrame(data={'id':test.id,'sales':pred})\n",
    "sub.to_csv('/home/exeb1t/Desktop/sub_sale.csv', index=False)"
   ],
   "metadata": {
    "collapsed": false,
    "pycharm": {
     "name": "#%%\n"
    }
   }
  }
 ],
 "metadata": {
  "kernelspec": {
   "display_name": "Python 3",
   "language": "python",
   "name": "python3"
  },
  "language_info": {
   "codemirror_mode": {
    "name": "ipython",
    "version": 2
   },
   "file_extension": ".py",
   "mimetype": "text/x-python",
   "name": "python",
   "nbconvert_exporter": "python",
   "pygments_lexer": "ipython2",
   "version": "2.7.6"
  }
 },
 "nbformat": 4,
 "nbformat_minor": 0
}